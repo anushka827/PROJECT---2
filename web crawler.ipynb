{
  "cells": [
    {
      "cell_type": "markdown",
      "metadata": {
        "id": "view-in-github",
        "colab_type": "text"
      },
      "source": [
        "<a href=\"https://colab.research.google.com/github/anushka827/PROJECT---2/blob/main/web%20crawler.ipynb\" target=\"_parent\"><img src=\"https://colab.research.google.com/assets/colab-badge.svg\" alt=\"Open In Colab\"/></a>"
      ]
    },
    {
      "cell_type": "code",
      "source": [
        "df = pd.DataFrame(sorted(emails), columns=[\"Email\"])\n",
        "df.to_csv(\"Emails.csv\", index=False)\n",
        "print(f\"✅ Done! Found {len(emails)} emails. Saved to Emails.csv\")"
      ],
      "metadata": {
        "id": "idT3TZ-FOz9o"
      },
      "execution_count": null,
      "outputs": []
    },
    {
      "cell_type": "code",
      "source": [
        "import re\n",
        "import pandas as pd\n",
        "import requests\n",
        "from bs4 import BeautifulSoup\n",
        "from tqdm import tqdm"
      ],
      "metadata": {
        "id": "To8bYOzVO7rM"
      },
      "execution_count": null,
      "outputs": []
    },
    {
      "cell_type": "code",
      "source": [
        "EMAIL_REGEX = r\"\"\"(?:[a-zA-Z0-9!#$%&'*+/=?^_`{|}~-]+(?:\\.[a-zA-Z0-9!#$%&'*+/=?^_`{|}~-]+)*|\"(?:[\\x01-\\x08\\x0b\\x0c\\x0e-\\x1f\\x21\\x23-\\x5b\\x5d-\\x7f]|\\\\[\\x01-\\x09\\x0b\\x0c\\x0e-\\x7f])*\")@(?:(?:[a-zA-Z0-9](?:[a-zA-Z0-9-]*[a-zA-Z0-9])?\\.)+[a-zA-Z]{2,})\"\"\""
      ],
      "metadata": {
        "id": "cWUGK98uPQu8"
      },
      "execution_count": null,
      "outputs": []
    },
    {
      "cell_type": "code",
      "source": [
        "def get_urls_from_sitemap(sitemap_url, limit=20):\n",
        "    response = requests.get(sitemap_url)\n",
        "    soup = BeautifulSoup(response.content, 'xml')\n",
        "    all_links = [loc.text for loc in soup.find_all('loc')]\n",
        "    return all_links[:limit]"
      ],
      "metadata": {
        "id": "asGIy85VO_uo"
      },
      "execution_count": null,
      "outputs": []
    },
    {
      "cell_type": "code",
      "source": [
        "def fast_email_scraper(urls):\n",
        "    found_emails = set()\n",
        "    for url in tqdm(urls, desc=\"Scraping\"):\n",
        "        try:\n",
        "            r = requests.get(url, timeout=5)\n",
        "            emails = re.findall(EMAIL_REGEX, r.text)\n",
        "            found_emails.update([e.replace(\"-\", \"\") for e in emails])\n",
        "        except:\n",
        "            continue\n",
        "    return found_emails\n"
      ],
      "metadata": {
        "id": "AzyntllBPGoi"
      },
      "execution_count": null,
      "outputs": []
    },
    {
      "cell_type": "code",
      "source": [
        "sitemap_url = \"https://www.thapar.edu/sitemap.xml\"\n",
        "limited_links = get_urls_from_sitemap(sitemap_url, limit=20)  # Change limit here\n",
        "emails = fast_email_scraper(limited_links)"
      ],
      "metadata": {
        "id": "uJQ8p8wQPg_U"
      },
      "execution_count": null,
      "outputs": []
    },
    {
      "cell_type": "code",
      "source": [
        "df = pd.DataFrame(sorted(emails), columns=[\"Email\"])\n",
        "df.to_csv(\"Emails.csv\", index=False)\n",
        "print(f\"✅ Done! Found {len(emails)} emails. Saved to Emails.csv\")"
      ],
      "metadata": {
        "id": "FuDVNPnpPlyY"
      },
      "execution_count": null,
      "outputs": []
    }
  ],
  "metadata": {
    "colab": {
      "name": "Welcome To Colab",
      "toc_visible": true,
      "provenance": [],
      "include_colab_link": true
    },
    "kernelspec": {
      "display_name": "Python 3",
      "name": "python3"
    }
  },
  "nbformat": 4,
  "nbformat_minor": 0
}